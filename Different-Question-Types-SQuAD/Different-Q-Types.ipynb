{
 "cells": [
  {
   "cell_type": "code",
   "execution_count": 2,
   "id": "2ae5241b",
   "metadata": {},
   "outputs": [],
   "source": [
    "import json\n",
    "\n",
    "def read_squad(path):\n",
    "    # open JSON file and load intro dictionary\n",
    "    with open(path, 'rb') as f:\n",
    "        squad_dict = json.load(f)\n",
    "\n",
    "    # initialize lists for contexts, questions, and answers\n",
    "    contexts = []\n",
    "    questions = []\n",
    "    answers = []\n",
    "    # iterate through all data in squad data\n",
    "    for group in squad_dict['data']:\n",
    "        for passage in group['paragraphs']:\n",
    "            context = passage['context']\n",
    "            for qa in passage['qas']:\n",
    "                question = qa['question']\n",
    "                # check if we need to be extracting from 'answers' or 'plausible_answers'\n",
    "                if 'plausible_answers' in qa.keys():\n",
    "                    access = 'plausible_answers'\n",
    "                else:\n",
    "                    access = 'answers'\n",
    "                for answer in qa[access]:\n",
    "                    # append data to lists\n",
    "                    contexts.append(context)\n",
    "                    questions.append(question)\n",
    "                    answers.append(answer)\n",
    "    # return formatted data lists\n",
    "    return contexts, questions, answers"
   ]
  },
  {
   "cell_type": "code",
   "execution_count": 3,
   "id": "57d93db4",
   "metadata": {},
   "outputs": [],
   "source": [
    "# execute our read SQuAD function for training and validation sets\n",
    "train_contexts_old, train_questions_old, train_answers_old = read_squad('squad/train-v2.0.json')"
   ]
  },
  {
   "cell_type": "code",
   "execution_count": 4,
   "id": "4392ca9d",
   "metadata": {},
   "outputs": [],
   "source": [
    "with open(\"test-indexes.json\", 'r') as testfile:\n",
    "    rand_i_test = json.load(testfile)"
   ]
  },
  {
   "cell_type": "code",
   "execution_count": 5,
   "id": "cbdfce47",
   "metadata": {},
   "outputs": [],
   "source": [
    "import json\n",
    "\n",
    "with open(\"tokenized-features-final-ints.json\", 'r') as f:\n",
    "    features = json.load(f)"
   ]
  },
  {
   "cell_type": "code",
   "execution_count": 6,
   "id": "91c08a7d",
   "metadata": {},
   "outputs": [],
   "source": [
    "# Pad features\n",
    "for f in features:\n",
    "    f += [[0,0,0,0]] * (512 - len(f))"
   ]
  },
  {
   "cell_type": "code",
   "execution_count": 7,
   "id": "ddf34329",
   "metadata": {},
   "outputs": [],
   "source": [
    "test_features = []\n",
    "for i in rand_i_test:\n",
    "    test_features.append(features[i])"
   ]
  },
  {
   "cell_type": "code",
   "execution_count": 8,
   "id": "134aaaf0",
   "metadata": {},
   "outputs": [],
   "source": [
    "test_contexts = []\n",
    "test_questions = []\n",
    "test_answers = []\n",
    "\n",
    "for i in rand_i_test:\n",
    "    test_contexts.append(train_contexts_old[i])\n",
    "    test_questions.append(train_questions_old[i])\n",
    "    test_answers.append(train_answers_old[i])"
   ]
  },
  {
   "cell_type": "code",
   "execution_count": 9,
   "id": "e7e382f5",
   "metadata": {},
   "outputs": [],
   "source": [
    "def normalize_text(s):\n",
    "    \"\"\"Removing articles and punctuation, and standardizing whitespace are all typical text processing steps.\"\"\"\n",
    "    import string, re\n",
    "\n",
    "    def remove_articles(text):\n",
    "        regex = re.compile(r\"\\b(a|an|the)\\b\", re.UNICODE)\n",
    "        return re.sub(regex, \" \", text)\n",
    "\n",
    "    def white_space_fix(text):\n",
    "        return \" \".join(text.split())\n",
    "\n",
    "    def remove_punc(text):\n",
    "        exclude = set(string.punctuation)\n",
    "        return \"\".join(ch for ch in text if ch not in exclude)\n",
    "\n",
    "    def lower(text):\n",
    "        return text.lower()\n",
    "\n",
    "    return white_space_fix(remove_articles(remove_punc(lower(s))))"
   ]
  },
  {
   "cell_type": "markdown",
   "id": "023f52d0",
   "metadata": {},
   "source": [
    "## What Questions"
   ]
  },
  {
   "cell_type": "code",
   "execution_count": 10,
   "id": "95a231c3",
   "metadata": {},
   "outputs": [],
   "source": [
    "what_contexts = []\n",
    "what_questions = []\n",
    "what_answers = []\n",
    "what_features = []\n",
    "\n",
    "for i in range(len(test_questions)):\n",
    "    q_words = test_questions[i].split(' ')\n",
    "    q_words_lower = [normalize_text(word) for word in q_words]\n",
    "    if q_words_lower[0] == 'what' or  q_words_lower[0] == 'whats' or  q_words_lower[0] == 'whatre':\n",
    "        what_contexts.append(test_contexts[i])\n",
    "        what_questions.append(test_questions[i])\n",
    "        what_answers.append(test_answers[i])\n",
    "        what_features.append(test_features[i])\n",
    "    elif q_words_lower[0] != 'who' and q_words_lower[0] != 'how' and q_words_lower[0] != 'why' and ('what' in q_words_lower or 'whats' in q_words_lower or 'whatre' in q_words_lower):\n",
    "        what_contexts.append(test_contexts[i])\n",
    "        what_questions.append(test_questions[i])\n",
    "        what_answers.append(test_answers[i])\n",
    "        what_features.append(test_features[i])"
   ]
  },
  {
   "cell_type": "markdown",
   "id": "0ba7cf5c",
   "metadata": {},
   "source": [
    "## Where Questions"
   ]
  },
  {
   "cell_type": "code",
   "execution_count": 11,
   "id": "0b9a3b9e",
   "metadata": {},
   "outputs": [],
   "source": [
    "where_contexts = []\n",
    "where_questions = []\n",
    "where_answers = []\n",
    "where_features = []\n",
    "\n",
    "for i in range(len(test_questions)):\n",
    "    q_words = test_questions[i].split(' ')\n",
    "    q_words_lower = [normalize_text(word) for word in q_words]\n",
    "    if q_words_lower[0] == 'where':\n",
    "        where_contexts.append(test_contexts[i])\n",
    "        where_questions.append(test_questions[i])\n",
    "        where_answers.append(test_answers[i])\n",
    "        where_features.append(test_features[i])\n",
    "    elif q_words_lower[0] != 'who' and q_words_lower[0] != 'what' and 'what' not in q_words_lower and 'whats' not in q_words_lower and 'whatre' not in q_words_lower and q_words_lower[0] != 'how' and q_words_lower[0] != 'why' and 'where' in q_words_lower:\n",
    "        where_contexts.append(test_contexts[i])\n",
    "        where_questions.append(test_questions[i])\n",
    "        where_answers.append(test_answers[i])\n",
    "        where_features.append(test_features[i])"
   ]
  },
  {
   "cell_type": "markdown",
   "id": "1746da70",
   "metadata": {},
   "source": [
    "## When Questions"
   ]
  },
  {
   "cell_type": "code",
   "execution_count": 12,
   "id": "bdc4288e",
   "metadata": {},
   "outputs": [],
   "source": [
    "when_contexts = []\n",
    "when_questions = []\n",
    "when_answers = []\n",
    "when_features = []\n",
    "\n",
    "for i in range(len(test_questions)):\n",
    "    q_words = test_questions[i].split(' ')\n",
    "    q_words_lower = [normalize_text(word) for word in q_words]\n",
    "    if q_words_lower[0] == 'when' and 'what' not in q_words_lower and 'where' not in q_words_lower and 'whom' not in q_words_lower and 'who' not in q_words_lower and 'how' not in q_words_lower:\n",
    "        when_contexts.append(test_contexts[i])\n",
    "        when_questions.append(test_questions[i])\n",
    "        when_answers.append(test_answers[i])\n",
    "        when_features.append(test_features[i])\n",
    "    elif q_words_lower[0] != 'who' and 'who' not in q_words_lower and q_words_lower[0] != 'whose' and 'whom' not in q_words_lower and q_words_lower[0] != 'where' and 'where' not in q_words_lower and q_words_lower[0] != 'what' and 'what' not in q_words_lower and 'whats' not in q_words_lower and 'whatre' not in q_words_lower and q_words_lower[0] != 'how' and 'how' not in q_words_lower and q_words_lower[0] != 'why' and 'when' in q_words_lower:\n",
    "        when_contexts.append(test_contexts[i])\n",
    "        when_questions.append(test_questions[i])\n",
    "        when_answers.append(test_answers[i])\n",
    "        when_features.append(test_features[i])"
   ]
  },
  {
   "cell_type": "markdown",
   "id": "96041ccb",
   "metadata": {},
   "source": [
    "## Why Questions"
   ]
  },
  {
   "cell_type": "code",
   "execution_count": 13,
   "id": "0ec92007",
   "metadata": {},
   "outputs": [],
   "source": [
    "why_contexts = []\n",
    "why_questions = []\n",
    "why_answers = []\n",
    "why_features = []\n",
    "\n",
    "for i in range(len(test_questions)):\n",
    "    q_words = test_questions[i].split(' ')\n",
    "    q_words_lower = [normalize_text(word) for word in q_words]\n",
    "    if q_words_lower[0] == 'why':\n",
    "        why_contexts.append(test_contexts[i])\n",
    "        why_questions.append(test_questions[i])\n",
    "        why_answers.append(test_answers[i])\n",
    "        why_features.append(test_features[i])\n",
    "    elif q_words_lower[0] != 'who' and q_words_lower[0] != 'what' and 'what' not in q_words_lower and 'whats' not in q_words_lower and 'whatre' not in q_words_lower and q_words_lower[0] != 'how' and 'why' in q_words_lower:\n",
    "        why_contexts.append(test_contexts[i])\n",
    "        why_questions.append(test_questions[i])\n",
    "        why_answers.append(test_answers[i])\n",
    "        why_features.append(test_features[i])"
   ]
  },
  {
   "cell_type": "markdown",
   "id": "1bc4cd54",
   "metadata": {},
   "source": [
    "## How Question"
   ]
  },
  {
   "cell_type": "code",
   "execution_count": 14,
   "id": "60bff690",
   "metadata": {},
   "outputs": [],
   "source": [
    "how_contexts = []\n",
    "how_questions = []\n",
    "how_answers = []\n",
    "how_features = []\n",
    "\n",
    "for i in range(len(test_questions)):\n",
    "    q_words = test_questions[i].split(' ')\n",
    "    q_words_lower = [normalize_text(word) for word in q_words]\n",
    "    if q_words_lower[0] == 'how':\n",
    "        how_contexts.append(test_contexts[i])\n",
    "        how_questions.append(test_questions[i])\n",
    "        how_answers.append(test_answers[i])\n",
    "        how_features.append(test_features[i])\n",
    "    elif q_words_lower[0] != 'who' and q_words_lower[0] != 'whos' and q_words_lower[0] != 'what' and 'what' not in q_words_lower and 'whats' not in q_words_lower and 'whatre' not in q_words_lower and q_words_lower[0] != 'why' and 'how' in q_words_lower:\n",
    "        how_contexts.append(test_contexts[i])\n",
    "        how_questions.append(test_questions[i])\n",
    "        how_answers.append(test_answers[i])\n",
    "        how_features.append(test_features[i])"
   ]
  },
  {
   "cell_type": "markdown",
   "id": "29056f95",
   "metadata": {},
   "source": [
    "## Who Questions"
   ]
  },
  {
   "cell_type": "code",
   "execution_count": 15,
   "id": "e66501ca",
   "metadata": {},
   "outputs": [],
   "source": [
    "who_contexts = []\n",
    "who_questions = []\n",
    "who_answers = []\n",
    "who_features = []\n",
    "\n",
    "for i in range(len(test_questions)):\n",
    "    q_words = test_questions[i].split(' ')\n",
    "    q_words_lower = [normalize_text(word) for word in q_words]\n",
    "    if q_words_lower[0] == 'who':\n",
    "        who_contexts.append(test_contexts[i])\n",
    "        who_questions.append(test_questions[i])\n",
    "        who_answers.append(test_answers[i])\n",
    "        who_features.append(test_features[i])\n",
    "    elif q_words_lower[0] != 'where' and q_words_lower[0] != 'what' and 'what' not in q_words_lower and 'whats' not in q_words_lower and 'whatre' not in q_words_lower and q_words_lower[0] != 'why' and q_words_lower[0] != 'how' and 'how' not in q_words_lower and 'who' in q_words_lower:\n",
    "        who_contexts.append(test_contexts[i])\n",
    "        who_questions.append(test_questions[i])\n",
    "        who_answers.append(test_answers[i])\n",
    "        who_features.append(test_features[i])"
   ]
  },
  {
   "cell_type": "markdown",
   "id": "01478882",
   "metadata": {},
   "source": [
    "## Whom Questions"
   ]
  },
  {
   "cell_type": "code",
   "execution_count": 16,
   "id": "cf82bae9",
   "metadata": {},
   "outputs": [],
   "source": [
    "whom_contexts = []\n",
    "whom_questions = []\n",
    "whom_answers = []\n",
    "whom_features = []\n",
    "\n",
    "for i in range(len(test_questions)):\n",
    "    q_words = test_questions[i].split(' ')\n",
    "    q_words_lower = [normalize_text(word) for word in q_words]\n",
    "    if q_words_lower[0] == 'whom':\n",
    "        whom_contexts.append(test_contexts[i])\n",
    "        whom_questions.append(test_questions[i])\n",
    "        whom_answers.append(test_answers[i])\n",
    "        whom_features.append(test_features[i])\n",
    "    elif q_words_lower[0] != 'what' and 'whom' in q_words_lower:\n",
    "        whom_contexts.append(test_contexts[i])\n",
    "        whom_questions.append(test_questions[i])\n",
    "        whom_answers.append(test_answers[i])\n",
    "        whom_features.append(test_features[i])"
   ]
  },
  {
   "cell_type": "markdown",
   "id": "7fdd84c9",
   "metadata": {},
   "source": [
    "## Which Questions"
   ]
  },
  {
   "cell_type": "code",
   "execution_count": 17,
   "id": "479f6ddc",
   "metadata": {},
   "outputs": [],
   "source": [
    "which_contexts = []\n",
    "which_questions = []\n",
    "which_answers = []\n",
    "which_features = []\n",
    "\n",
    "for i in range(len(test_questions)):\n",
    "    q_words = test_questions[i].split(' ')\n",
    "    q_words_lower = [normalize_text(word) for word in q_words]\n",
    "    if q_words_lower[0] == 'which':\n",
    "        which_contexts.append(test_contexts[i])\n",
    "        which_questions.append(test_questions[i])\n",
    "        which_answers.append(test_answers[i])\n",
    "        which_features.append(test_features[i])\n",
    "    elif q_words_lower[0] != 'who' and q_words_lower[0] != 'how' and q_words_lower[0] != 'what' and 'what' not in q_words_lower and 'which' in q_words_lower:\n",
    "        which_contexts.append(test_contexts[i])\n",
    "        which_questions.append(test_questions[i])\n",
    "        which_answers.append(test_answers[i])\n",
    "        which_features.append(test_features[i])"
   ]
  },
  {
   "cell_type": "markdown",
   "id": "200ed90a",
   "metadata": {},
   "source": [
    "## Whose Questions"
   ]
  },
  {
   "cell_type": "code",
   "execution_count": 18,
   "id": "6c0aea08",
   "metadata": {},
   "outputs": [],
   "source": [
    "whose_contexts = []\n",
    "whose_questions = []\n",
    "whose_answers = []\n",
    "whose_features = []\n",
    "\n",
    "for i in range(len(test_questions)):\n",
    "    q_words = test_questions[i].split(' ')\n",
    "    q_words_lower = [normalize_text(word) for word in q_words]\n",
    "    if q_words_lower[0] == 'whose':\n",
    "        whose_contexts.append(test_contexts[i])\n",
    "        whose_questions.append(test_questions[i])\n",
    "        whose_answers.append(test_answers[i])\n",
    "        whose_features.append(test_features[i])\n",
    "    elif q_words_lower[0] != 'what' and 'whose' in q_words_lower:\n",
    "        whose_contexts.append(test_contexts[i])\n",
    "        whose_questions.append(test_questions[i])\n",
    "        whose_answers.append(test_answers[i])\n",
    "        whose_features.append(test_features[i])"
   ]
  },
  {
   "cell_type": "markdown",
   "id": "fa259489",
   "metadata": {},
   "source": [
    "## Check"
   ]
  },
  {
   "cell_type": "code",
   "execution_count": 19,
   "id": "32bd8173",
   "metadata": {},
   "outputs": [],
   "source": [
    "sum_of_types = len(what_contexts)+len(where_contexts)+len(when_contexts)+len(why_contexts)+len(how_contexts)+len(who_contexts)+len(whom_contexts)+len(whose_contexts)+len(which_contexts)"
   ]
  },
  {
   "cell_type": "code",
   "execution_count": 20,
   "id": "1e2b2fd8",
   "metadata": {},
   "outputs": [],
   "source": [
    "all_q = len(test_contexts)"
   ]
  },
  {
   "cell_type": "code",
   "execution_count": 21,
   "id": "19f53577",
   "metadata": {},
   "outputs": [
    {
     "data": {
      "image/png": "[encoded data removed]",
      "text/plain": [
       "<Figure size 432x288 with 1 Axes>"
      ]
     },
     "metadata": {},
     "output_type": "display_data"
    }
   ],
   "source": [
    "import matplotlib.pyplot as plt\n",
    "import numpy as np\n",
    "\n",
    "y = np.array([len(what_contexts), len(where_contexts), len(when_contexts), len(why_contexts), len(how_contexts),\n",
    "              len(whom_contexts), len(who_contexts), len(whose_contexts), len(which_contexts), all_q - sum_of_types])\n",
    "mylabels = [\"What\", \"Where\", \"When\", \"Why\", \"How\", \"Whom\", \"Who\", \"Whose\", \"Which\", \"None\"]\n",
    "\n",
    "plt.pie(y, labels = mylabels, radius=2, autopct='%1.1f%%')\n",
    "plt.show() "
   ]
  }
 ],
 "metadata": {
  "kernelspec": {
   "display_name": "Python 3",
   "language": "python",
   "name": "python3"
  },
  "language_info": {
   "codemirror_mode": {
    "name": "ipython",
    "version": 3
   },
   "file_extension": ".py",
   "mimetype": "text/x-python",
   "name": "python",
   "nbconvert_exporter": "python",
   "pygments_lexer": "ipython3",
   "version": "3.6.10"
  }
 },
 "nbformat": 4,
 "nbformat_minor": 5
}
