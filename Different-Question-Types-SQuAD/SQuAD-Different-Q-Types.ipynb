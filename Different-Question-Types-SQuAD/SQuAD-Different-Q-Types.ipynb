{
 "cells": [
  {
   "cell_type": "code",
   "execution_count": 1,
   "id": "799b9507",
   "metadata": {},
   "outputs": [],
   "source": [
    "import os\n",
    "import json\n",
    "import numpy as np\n",
    "from tqdm import tqdm\n",
    "import collections"
   ]
  },
  {
   "cell_type": "code",
   "execution_count": 2,
   "id": "e5027e42",
   "metadata": {},
   "outputs": [],
   "source": [
    "import json\n",
    "\n",
    "def read_squad(path):\n",
    "    # open JSON file and load intro dictionary\n",
    "    with open(path, 'rb') as f:\n",
    "        squad_dict = json.load(f)\n",
    "\n",
    "    # initialize lists for contexts, questions, and answers\n",
    "    contexts = []\n",
    "    questions = []\n",
    "    answers = []\n",
    "    # iterate through all data in squad data\n",
    "    for group in squad_dict['data']:\n",
    "        for passage in group['paragraphs']:\n",
    "            context = passage['context']\n",
    "            for qa in passage['qas']:\n",
    "                question = qa['question']\n",
    "                # check if we need to be extracting from 'answers' or 'plausible_answers'\n",
    "                if 'plausible_answers' in qa.keys():\n",
    "                    access = 'plausible_answers'\n",
    "                else:\n",
    "                    access = 'answers'\n",
    "                for answer in qa[access]:\n",
    "                    # append data to lists\n",
    "                    contexts.append(context)\n",
    "                    questions.append(question)\n",
    "                    answers.append(answer)\n",
    "    # return formatted data lists\n",
    "    return contexts, questions, answers"
   ]
  },
  {
   "cell_type": "code",
   "execution_count": 3,
   "id": "129cac74",
   "metadata": {},
   "outputs": [],
   "source": [
    "# execute our read SQuAD function for training and validation sets\n",
    "train_contexts, train_questions, train_answers = read_squad('squad/train-v2.0.json')\n",
    "val_contexts, val_questions, val_answers = read_squad('squad/dev-v2.0.json')"
   ]
  },
  {
   "cell_type": "code",
   "execution_count": 4,
   "id": "9ad3f7f9",
   "metadata": {},
   "outputs": [],
   "source": [
    "all_types = []\n",
    "for question in train_questions:\n",
    "    splited=[]\n",
    "    splited=question.split(' ')\n",
    "    if 'wh' in splited[0][0:2].lower():\n",
    "        all_types.append(splited[0])"
   ]
  },
  {
   "cell_type": "code",
   "execution_count": 5,
   "id": "2ec9f225",
   "metadata": {},
   "outputs": [],
   "source": [
    "counter=collections.Counter(all_types)"
   ]
  },
  {
   "cell_type": "code",
   "execution_count": 6,
   "id": "bfca2255",
   "metadata": {},
   "outputs": [
    {
     "data": {
      "text/plain": [
       "Counter({'When': 7683,\n",
       "         'What': 57826,\n",
       "         'Who': 12209,\n",
       "         'Which': 5614,\n",
       "         'Where': 4586,\n",
       "         'Why': 1825,\n",
       "         \"Who's\": 108,\n",
       "         'who': 80,\n",
       "         'Whats': 9,\n",
       "         'Whose': 324,\n",
       "         'While': 40,\n",
       "         'Whom': 27,\n",
       "         'what': 328,\n",
       "         'where': 30,\n",
       "         \"What's\": 245,\n",
       "         'Whic': 4,\n",
       "         'Wha': 3,\n",
       "         'What,': 14,\n",
       "         'Who,': 17,\n",
       "         'Whhat': 2,\n",
       "         'Whether': 2,\n",
       "         'when': 30,\n",
       "         'while': 1,\n",
       "         'Whos': 9,\n",
       "         'Wher': 1,\n",
       "         'WHat': 20,\n",
       "         'WHich': 3,\n",
       "         'When,': 1,\n",
       "         'WHen': 11,\n",
       "         'WHn': 1,\n",
       "         'WHo': 10,\n",
       "         'WHy': 4,\n",
       "         'whats': 2,\n",
       "         'which': 7,\n",
       "         'Whicy': 1,\n",
       "         'Whan': 1,\n",
       "         'Where,': 3,\n",
       "         'Whne': 1,\n",
       "         'Why,': 1,\n",
       "         'Whar': 4,\n",
       "         'Whixh': 1,\n",
       "         'Whom,': 1,\n",
       "         'Whatyear': 1,\n",
       "         'Whio': 1,\n",
       "         'Whi': 2,\n",
       "         'Whaen': 2,\n",
       "         'Whao': 1,\n",
       "         'Whch': 1,\n",
       "         'Whish': 1,\n",
       "         'Wh': 1,\n",
       "         'Whittington': 1,\n",
       "         'why': 4,\n",
       "         \"who's\": 2,\n",
       "         'White': 4,\n",
       "         \"Where's\": 1,\n",
       "         'Whate': 2,\n",
       "         'Whithout': 1,\n",
       "         'Whorefuted': 1,\n",
       "         'Wht': 1,\n",
       "         'Whas': 2,\n",
       "         'Whare': 1,\n",
       "         'whattype': 1,\n",
       "         'Whad': 1,\n",
       "         'WHere': 1,\n",
       "         'White-box': 1,\n",
       "         'Whit': 1,\n",
       "         'whose': 1,\n",
       "         'Whatprinciples': 1,\n",
       "         'Whaqt': 1,\n",
       "         'Whee': 1,\n",
       "         \"Whitehead's\": 3,\n",
       "         'Whitehead': 7,\n",
       "         'Whoch': 1,\n",
       "         'Whichgroup': 1,\n",
       "         'Whites': 1,\n",
       "         'Whed': 1})"
      ]
     },
     "execution_count": 6,
     "metadata": {},
     "output_type": "execute_result"
    }
   ],
   "source": [
    "counter"
   ]
  },
  {
   "cell_type": "code",
   "execution_count": null,
   "id": "bb7a6609",
   "metadata": {},
   "outputs": [],
   "source": []
  }
 ],
 "metadata": {
  "kernelspec": {
   "display_name": "Python 3",
   "language": "python",
   "name": "python3"
  },
  "language_info": {
   "codemirror_mode": {
    "name": "ipython",
    "version": 3
   },
   "file_extension": ".py",
   "mimetype": "text/x-python",
   "name": "python",
   "nbconvert_exporter": "python",
   "pygments_lexer": "ipython3",
   "version": "3.6.10"
  }
 },
 "nbformat": 4,
 "nbformat_minor": 5
}
